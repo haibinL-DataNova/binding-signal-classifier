##Import Libraries

import pandas as pd
import numpy as np
from sklearn.model_selection import train_test_split
from tensorflow.keras.utils import to_categorical
from src.preprocess import load_and_preprocess
from src.model import build_model
from src.evaluate import evaluate_model

##Load and Preprocess Data
df = load_and_preprocess('../data/sample_signals.csv')
window_size = 3

# Create sequences
X, y = [], []
for i in range(len(df) - window_size):
    X.append(df['scaled_signal'].values[i:i+window_size])
    y.append(1 if df['label'].values[i+window_size] == 'binding' else 0)

X = np.array(X).reshape(-1, window_size, 1)
y = np.array(y)

##Split and Train
X_train, X_test, y_train, y_test = train_test_split(X, y, test_size=0.2, random_state=42)

model = build_model(input_shape=(window_size, 1))
model.fit(X_train, y_train, epochs=10, batch_size=4, validation_split=0.2)

##Evaluate
y_pred = (model.predict(X_test) > 0.5).astype("int32")
evaluate_model(y_test, y_pred)

##Save Model (Optional)
model.save('../src/biosensor_model.h5')
